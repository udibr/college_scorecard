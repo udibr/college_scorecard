{
 "cells": [
  {
   "cell_type": "markdown",
   "metadata": {},
   "source": [
    "Following NY Times article on [Gaps in Earnings Stand Out in Release of College Data](http://www.nytimes.com/2015/09/14/upshot/gaps-in-alumni-earnings-stand-out-in-release-of-college-data.html)\n",
    "I decided to do some exploration myself"
   ]
  },
  {
   "cell_type": "markdown",
   "metadata": {},
   "source": [
    "Download data"
   ]
  },
  {
   "cell_type": "code",
   "execution_count": null,
   "metadata": {
    "collapsed": true
   },
   "outputs": [],
   "source": [
    "%%bash\n",
    "cd ~/Downloads\n",
    "wget https://s3.amazonaws.com/ed-college-choice-public/CollegeScorecard_Raw_Data.zip\n",
    "unzip CollegeScorecard_Raw_Data.zip"
   ]
  },
  {
   "cell_type": "markdown",
   "metadata": {},
   "source": [
    "lets explore"
   ]
  },
  {
   "cell_type": "code",
   "execution_count": 206,
   "metadata": {
    "collapsed": false
   },
   "outputs": [
    {
     "name": "stdout",
     "output_type": "stream",
     "text": [
      "CollegeScorecardDataDictionary-09-12-2015.csv\r\n",
      "CollegeScorecardDataDictionary-09-12-2015.pdf\r\n",
      "\u001b[34mCrosswalk_ZIP\u001b[m\u001b[m\r\n",
      "Crosswalk_ZIP.zip\r\n",
      "\u001b[34mData_File_Cohort_Map\u001b[m\u001b[m\r\n",
      "FullDataDocumentation.pdf\r\n",
      "MERGED1996_PP.csv\r\n",
      "MERGED1997_PP.csv\r\n",
      "MERGED1998_PP.csv\r\n",
      "MERGED1999_PP.csv\r\n",
      "MERGED2000_PP.csv\r\n",
      "MERGED2001_PP.csv\r\n",
      "MERGED2002_PP.csv\r\n",
      "MERGED2003_PP.csv\r\n",
      "MERGED2004_PP.csv\r\n",
      "MERGED2005_PP.csv\r\n",
      "MERGED2006_PP.csv\r\n",
      "MERGED2007_PP.csv\r\n",
      "MERGED2008_PP.csv\r\n",
      "MERGED2009_PP.csv\r\n",
      "MERGED2010_PP.csv\r\n",
      "MERGED2011_PP.csv\r\n",
      "MERGED2012_PP.csv\r\n",
      "MERGED2013_PP.csv\r\n",
      "data_dictionary.yaml\r\n"
     ]
    }
   ],
   "source": [
    "!ls ~/Downloads/CollegeScorecard_Raw_Data"
   ]
  },
  {
   "cell_type": "markdown",
   "metadata": {},
   "source": [
    "for some reason 2011 was the last year for which there is earning information"
   ]
  },
  {
   "cell_type": "code",
   "execution_count": 207,
   "metadata": {
    "collapsed": false
   },
   "outputs": [],
   "source": [
    "import pandas as pd\n",
    "df = pd.read_csv('~/Downloads/CollegeScorecard_Raw_Data/MERGED2011_PP.csv', na_values=['PrivacySuppressed'])"
   ]
  },
  {
   "cell_type": "markdown",
   "metadata": {},
   "source": [
    "the number of schools covered"
   ]
  },
  {
   "cell_type": "code",
   "execution_count": 208,
   "metadata": {
    "collapsed": false
   },
   "outputs": [
    {
     "data": {
      "text/plain": [
       "7675"
      ]
     },
     "execution_count": 208,
     "metadata": {},
     "output_type": "execute_result"
    }
   ],
   "source": [
    "len(df)"
   ]
  },
  {
   "cell_type": "markdown",
   "metadata": {},
   "source": [
    "for each there are lots of columns to read"
   ]
  },
  {
   "cell_type": "code",
   "execution_count": 209,
   "metadata": {
    "collapsed": false
   },
   "outputs": [
    {
     "data": {
      "text/plain": [
       "1729"
      ]
     },
     "execution_count": 209,
     "metadata": {},
     "output_type": "execute_result"
    }
   ],
   "source": [
    "len(df.columns)"
   ]
  },
  {
   "cell_type": "markdown",
   "metadata": {},
   "source": [
    "but there is a dictionary just for exploring what each column is"
   ]
  },
  {
   "cell_type": "code",
   "execution_count": 210,
   "metadata": {
    "collapsed": true
   },
   "outputs": [],
   "source": [
    "ddict = pd.read_csv('~/Downloads/CollegeScorecard_Raw_Data/CollegeScorecardDataDictionary-09-12-2015.csv')"
   ]
  },
  {
   "cell_type": "markdown",
   "metadata": {},
   "source": [
    "the columns are grouped"
   ]
  },
  {
   "cell_type": "code",
   "execution_count": 211,
   "metadata": {
    "collapsed": false
   },
   "outputs": [
    {
     "data": {
      "text/plain": [
       "array(['root', 'school', nan, 'admissions', 'academics', 'student', 'cost',\n",
       "       'aid', 'completion', 'repayment', 'earnings'], dtype=object)"
      ]
     },
     "execution_count": 211,
     "metadata": {},
     "output_type": "execute_result"
    }
   ],
   "source": [
    "ddict['dev-category'].unique()"
   ]
  },
  {
   "cell_type": "markdown",
   "metadata": {},
   "source": [
    "there are many columns in the earning category"
   ]
  },
  {
   "cell_type": "code",
   "execution_count": 212,
   "metadata": {
    "collapsed": false
   },
   "outputs": [
    {
     "data": {
      "text/plain": [
       "VARIABLE NAME\n",
       "count_ed                                                                     Count of students in the earnings cohort\n",
       "count_nwne_p10                                   Number of students not working and not enrolled 10 years after entry\n",
       "count_wne_p10                                        Number of students working and not enrolled 10 years after entry\n",
       "mn_earn_wne_p10                               Mean earnings of students working and not enrolled 10 years after entry\n",
       "md_earn_wne_p10                             Median earnings of students working and not enrolled 10 years after entry\n",
       "pct10_earn_wne_p10              10th percentile of earnings of students working and not enrolled 10 years after entry\n",
       "pct25_earn_wne_p10              25th percentile of earnings of students working and not enrolled 10 years after entry\n",
       "pct75_earn_wne_p10              75th percentile of earnings of students working and not enrolled 10 years after entry\n",
       "pct90_earn_wne_p10              90th percentile of earnings of students working and not enrolled 10 years after entry\n",
       "sd_earn_wne_p10                Standard deviation of earnings of students working and not enrolled 10 years after ...\n",
       "count_wne_inc1_p10             Number of students working and not enrolled 10 years after entry in the lowest inco...\n",
       "count_wne_inc2_p10             Number of students working and not enrolled 10 years after entry in the middle inco...\n",
       "count_wne_inc3_p10             Number of students working and not enrolled 10 years after entry in the highest inc...\n",
       "count_wne_indep0_inc1_p10      Number of dependent students working and not enrolled 10 years after entry in the l...\n",
       "count_wne_indep0_p10                       Number of dependent students working and not enrolled 10 years after entry\n",
       "count_wne_indep1_p10                     Number of independent students working and not enrolled 10 years after entry\n",
       "count_wne_male0_p10                           Number of female students working and not enrolled 10 years after entry\n",
       "count_wne_male1_p10                             Number of male students working and not enrolled 10 years after entry\n",
       "gt_25k_p10                      Share of students earning over $25,000/year (threshold earnings) 10 years after entry\n",
       "mn_earn_wne_inc1_p10           Mean earnings of students working and not enrolled 10 years after entry in the lowe...\n",
       "mn_earn_wne_inc2_p10           Mean earnings of students working and not enrolled 10 years after entry in the midd...\n",
       "mn_earn_wne_inc3_p10           Mean earnings of students working and not enrolled 10 years after entry in the high...\n",
       "mn_earn_wne_indep0_inc1_p10    Mean earnings of dependent students working and not enrolled 10 years after entry i...\n",
       "mn_earn_wne_indep0_p10              Mean earnings of dependent students working and not enrolled 10 years after entry\n",
       "mn_earn_wne_indep1_p10            Mean earnings of independent students working and not enrolled 10 years after entry\n",
       "mn_earn_wne_male0_p10                  Mean earnings of female students working and not enrolled 10 years after entry\n",
       "mn_earn_wne_male1_p10                    Mean earnings of male students working and not enrolled 10 years after entry\n",
       "count_nwne_p6                                     Number of students not working and not enrolled 6 years after entry\n",
       "count_wne_p6                                          Number of students working and not enrolled 6 years after entry\n",
       "mn_earn_wne_p6                                 Mean earnings of students working and not enrolled 6 years after entry\n",
       "                                                                        ...                                          \n",
       "count_wne_male1_p6                               Number of male students working and not enrolled 6 years after entry\n",
       "gt_25k_p6                        Share of students earning over $25,000/year (threshold earnings) 6 years after entry\n",
       "mn_earn_wne_inc1_p6            Mean earnings of students working and not enrolled 6 years after entry in the lowes...\n",
       "mn_earn_wne_inc2_p6            Mean earnings of students working and not enrolled 6 years after entry in the middl...\n",
       "mn_earn_wne_inc3_p6            Mean earnings of students working and not enrolled 6 years after entry in the highe...\n",
       "mn_earn_wne_indep0_inc1_p6     Mean earnings of dependent students working and not enrolled 6 years after entry in...\n",
       "mn_earn_wne_indep0_p6                Mean earnings of dependent students working and not enrolled 6 years after entry\n",
       "mn_earn_wne_indep1_p6              Mean earnings of independent students working and not enrolled 6 years after entry\n",
       "mn_earn_wne_male0_p6                    Mean earnings of female students working and not enrolled 6 years after entry\n",
       "mn_earn_wne_male1_p6                      Mean earnings of male students working and not enrolled 6 years after entry\n",
       "count_nwne_p7                                     Number of students not working and not enrolled 7 years after entry\n",
       "count_wne_p7                                          Number of students working and not enrolled 7 years after entry\n",
       "mn_earn_wne_p7                                 Mean earnings of students working and not enrolled 7 years after entry\n",
       "sd_earn_wne_p7                 Standard deviation of earnings of students working and not enrolled 7 years after e...\n",
       "gt_25k_p7                        Share of students earning over $25,000/year (threshold earnings) 7 years after entry\n",
       "count_nwne_p8                                     Number of students not working and not enrolled 8 years after entry\n",
       "count_wne_p8                                          Number of students working and not enrolled 8 years after entry\n",
       "mn_earn_wne_p8                                 Mean earnings of students working and not enrolled 8 years after entry\n",
       "md_earn_wne_p8                               Median earnings of students working and not enrolled 8 years after entry\n",
       "pct10_earn_wne_p8                10th percentile of earnings of students working and not enrolled 8 years after entry\n",
       "pct25_earn_wne_p8                25th percentile of earnings of students working and not enrolled 8 years after entry\n",
       "pct75_earn_wne_p8                75th percentile of earnings of students working and not enrolled 8 years after entry\n",
       "pct90_earn_wne_p8                90th percentile of earnings of students working and not enrolled 8 years after entry\n",
       "sd_earn_wne_p8                 Standard deviation of earnings of students working and not enrolled 8 years after e...\n",
       "gt_25k_p8                        Share of students earning over $25,000/year (threshold earnings) 8 years after entry\n",
       "count_nwne_p9                                     Number of students not working and not enrolled 9 years after entry\n",
       "count_wne_p9                                          Number of students working and not enrolled 9 years after entry\n",
       "mn_earn_wne_p9                                 Mean earnings of students working and not enrolled 9 years after entry\n",
       "sd_earn_wne_p9                 Standard deviation of earnings of students working and not enrolled 9 years after e...\n",
       "gt_25k_p9                        Share of students earning over $25,000/year (threshold earnings) 9 years after entry\n",
       "Name: NAME OF DATA ELEMENT, dtype: object"
      ]
     },
     "execution_count": 212,
     "metadata": {},
     "output_type": "execute_result"
    }
   ],
   "source": [
    "pd.options.display.max_colwidth = 87\n",
    "ddict[ddict['dev-category'] == 'earnings'].set_index('VARIABLE NAME')['NAME OF DATA ELEMENT']"
   ]
  },
  {
   "cell_type": "markdown",
   "metadata": {},
   "source": [
    "and here is the field for male earning 10 years after finishing school. Yes. females are `male0`"
   ]
  },
  {
   "cell_type": "code",
   "execution_count": 213,
   "metadata": {
    "collapsed": false
   },
   "outputs": [
    {
     "data": {
      "text/plain": [
       "array([[ 'Mean earnings of male students working and not enrolled 10 years after entry',\n",
       "        nan, 'earnings', '10_yrs_after_entry.mean_earnings.male_students',\n",
       "        'mn_earn_wne_male1_p10', 'integer', nan, nan, nan, nan, 'Treasury',\n",
       "        nan]], dtype=object)"
      ]
     },
     "execution_count": 213,
     "metadata": {},
     "output_type": "execute_result"
    }
   ],
   "source": [
    "ddict[ddict['VARIABLE NAME'] == 'mn_earn_wne_male1_p10'].values"
   ]
  },
  {
   "cell_type": "markdown",
   "metadata": {},
   "source": [
    "compute the difference between women and men"
   ]
  },
  {
   "cell_type": "code",
   "execution_count": 214,
   "metadata": {
    "collapsed": false
   },
   "outputs": [],
   "source": [
    "df['diffp10'] = df.mn_earn_wne_male1_p10 - df.mn_earn_wne_male0_p10"
   ]
  },
  {
   "cell_type": "code",
   "execution_count": 215,
   "metadata": {
    "collapsed": true
   },
   "outputs": [],
   "source": [
    "df = df.sort(columns=['diffp10'], ascending=False)"
   ]
  },
  {
   "cell_type": "code",
   "execution_count": 216,
   "metadata": {
    "collapsed": false
   },
   "outputs": [
    {
     "name": "stdout",
     "output_type": "stream",
     "text": [
      "Massachusetts Institute of Technology 58100.0\n",
      "Stanford University 56400.0\n"
     ]
    }
   ],
   "source": [
    "for name in ['Massachusetts Institute of Technology', 'Stanford University']:\n",
    "    print name, df[df.INSTNM == name].diffp10.values[0]"
   ]
  },
  {
   "cell_type": "code",
   "execution_count": 220,
   "metadata": {
    "collapsed": false
   },
   "outputs": [
    {
     "data": {
      "text/html": [
       "<div>\n",
       "<table border=\"1\" class=\"dataframe\">\n",
       "  <thead>\n",
       "    <tr style=\"text-align: right;\">\n",
       "      <th></th>\n",
       "      <th>diffp10</th>\n",
       "      <th>mn_earn_wne_male0_p10</th>\n",
       "      <th>mn_earn_wne_male1_p10</th>\n",
       "    </tr>\n",
       "    <tr>\n",
       "      <th>INSTNM</th>\n",
       "      <th></th>\n",
       "      <th></th>\n",
       "      <th></th>\n",
       "    </tr>\n",
       "  </thead>\n",
       "  <tbody>\n",
       "    <tr>\n",
       "      <th>University of Medicine and Dentistry of New Jersey</th>\n",
       "      <td>113100</td>\n",
       "      <td>120200</td>\n",
       "      <td>233300</td>\n",
       "    </tr>\n",
       "    <tr>\n",
       "      <th>The University of Texas Health Science Center at Houston</th>\n",
       "      <td>110400</td>\n",
       "      <td>83500</td>\n",
       "      <td>193900</td>\n",
       "    </tr>\n",
       "    <tr>\n",
       "      <th>Upstate Medical University</th>\n",
       "      <td>96100</td>\n",
       "      <td>108100</td>\n",
       "      <td>204200</td>\n",
       "    </tr>\n",
       "    <tr>\n",
       "      <th>Rosalind Franklin University of Medicine and Science</th>\n",
       "      <td>94900</td>\n",
       "      <td>137100</td>\n",
       "      <td>232000</td>\n",
       "    </tr>\n",
       "    <tr>\n",
       "      <th>SUNY Downstate Medical Center</th>\n",
       "      <td>81200</td>\n",
       "      <td>136800</td>\n",
       "      <td>218000</td>\n",
       "    </tr>\n",
       "    <tr>\n",
       "      <th>University of Nebraska Medical Center</th>\n",
       "      <td>79000</td>\n",
       "      <td>72300</td>\n",
       "      <td>151300</td>\n",
       "    </tr>\n",
       "    <tr>\n",
       "      <th>Medical University of South Carolina</th>\n",
       "      <td>69100</td>\n",
       "      <td>76100</td>\n",
       "      <td>145200</td>\n",
       "    </tr>\n",
       "    <tr>\n",
       "      <th>Oregon Health &amp; Science University</th>\n",
       "      <td>68500</td>\n",
       "      <td>70500</td>\n",
       "      <td>139000</td>\n",
       "    </tr>\n",
       "    <tr>\n",
       "      <th>University of Texas Southwestern Medical Center</th>\n",
       "      <td>67300</td>\n",
       "      <td>107300</td>\n",
       "      <td>174600</td>\n",
       "    </tr>\n",
       "    <tr>\n",
       "      <th>Georgia Health Sciences University</th>\n",
       "      <td>63800</td>\n",
       "      <td>64400</td>\n",
       "      <td>128200</td>\n",
       "    </tr>\n",
       "    <tr>\n",
       "      <th>Philadelphia College of Osteopathic Medicine</th>\n",
       "      <td>62400</td>\n",
       "      <td>143100</td>\n",
       "      <td>205500</td>\n",
       "    </tr>\n",
       "    <tr>\n",
       "      <th>Western University of Health Sciences</th>\n",
       "      <td>59700</td>\n",
       "      <td>108400</td>\n",
       "      <td>168100</td>\n",
       "    </tr>\n",
       "    <tr>\n",
       "      <th>University of California-San Francisco</th>\n",
       "      <td>58700</td>\n",
       "      <td>119400</td>\n",
       "      <td>178100</td>\n",
       "    </tr>\n",
       "    <tr>\n",
       "      <th>Midwestern University-Downers Grove</th>\n",
       "      <td>58200</td>\n",
       "      <td>111700</td>\n",
       "      <td>169900</td>\n",
       "    </tr>\n",
       "    <tr>\n",
       "      <th>Midwestern University-Glendale</th>\n",
       "      <td>58200</td>\n",
       "      <td>111700</td>\n",
       "      <td>169900</td>\n",
       "    </tr>\n",
       "    <tr>\n",
       "      <th>Massachusetts Institute of Technology</th>\n",
       "      <td>58100</td>\n",
       "      <td>93700</td>\n",
       "      <td>151800</td>\n",
       "    </tr>\n",
       "    <tr>\n",
       "      <th>Stanford University</th>\n",
       "      <td>56400</td>\n",
       "      <td>94700</td>\n",
       "      <td>151100</td>\n",
       "    </tr>\n",
       "    <tr>\n",
       "      <th>Brigham Young University-Provo</th>\n",
       "      <td>55000</td>\n",
       "      <td>29500</td>\n",
       "      <td>84500</td>\n",
       "    </tr>\n",
       "    <tr>\n",
       "      <th>Harvard University</th>\n",
       "      <td>54600</td>\n",
       "      <td>111200</td>\n",
       "      <td>165800</td>\n",
       "    </tr>\n",
       "    <tr>\n",
       "      <th>The University of Texas Health Science Center at San Antonio</th>\n",
       "      <td>54200</td>\n",
       "      <td>80900</td>\n",
       "      <td>135100</td>\n",
       "    </tr>\n",
       "    <tr>\n",
       "      <th>University of Maryland-Baltimore</th>\n",
       "      <td>53800</td>\n",
       "      <td>84200</td>\n",
       "      <td>138000</td>\n",
       "    </tr>\n",
       "    <tr>\n",
       "      <th>Middlebury College</th>\n",
       "      <td>51900</td>\n",
       "      <td>57300</td>\n",
       "      <td>109200</td>\n",
       "    </tr>\n",
       "    <tr>\n",
       "      <th>Monterey Institute of International Studies</th>\n",
       "      <td>51900</td>\n",
       "      <td>57300</td>\n",
       "      <td>109200</td>\n",
       "    </tr>\n",
       "    <tr>\n",
       "      <th>Amherst College</th>\n",
       "      <td>49900</td>\n",
       "      <td>62800</td>\n",
       "      <td>112700</td>\n",
       "    </tr>\n",
       "    <tr>\n",
       "      <th>University of Pennsylvania</th>\n",
       "      <td>49000</td>\n",
       "      <td>92000</td>\n",
       "      <td>141000</td>\n",
       "    </tr>\n",
       "    <tr>\n",
       "      <th>Princeton University</th>\n",
       "      <td>47700</td>\n",
       "      <td>89700</td>\n",
       "      <td>137400</td>\n",
       "    </tr>\n",
       "    <tr>\n",
       "      <th>Thomas Jefferson University</th>\n",
       "      <td>41100</td>\n",
       "      <td>80100</td>\n",
       "      <td>121200</td>\n",
       "    </tr>\n",
       "    <tr>\n",
       "      <th>Loma Linda University</th>\n",
       "      <td>40000</td>\n",
       "      <td>68500</td>\n",
       "      <td>108500</td>\n",
       "    </tr>\n",
       "    <tr>\n",
       "      <th>University of Chicago</th>\n",
       "      <td>39700</td>\n",
       "      <td>78500</td>\n",
       "      <td>118200</td>\n",
       "    </tr>\n",
       "    <tr>\n",
       "      <th>Golden Gate University-San Francisco</th>\n",
       "      <td>39300</td>\n",
       "      <td>63300</td>\n",
       "      <td>102600</td>\n",
       "    </tr>\n",
       "  </tbody>\n",
       "</table>\n",
       "</div>"
      ],
      "text/plain": [
       "                                                              diffp10  \\\n",
       "INSTNM                                                                  \n",
       "University of Medicine and Dentistry of New Jersey             113100   \n",
       "The University of Texas Health Science Center at Houston       110400   \n",
       "Upstate Medical University                                      96100   \n",
       "Rosalind Franklin University of Medicine and Science            94900   \n",
       "SUNY Downstate Medical Center                                   81200   \n",
       "University of Nebraska Medical Center                           79000   \n",
       "Medical University of South Carolina                            69100   \n",
       "Oregon Health & Science University                              68500   \n",
       "University of Texas Southwestern Medical Center                 67300   \n",
       "Georgia Health Sciences University                              63800   \n",
       "Philadelphia College of Osteopathic Medicine                    62400   \n",
       "Western University of Health Sciences                           59700   \n",
       "University of California-San Francisco                          58700   \n",
       "Midwestern University-Downers Grove                             58200   \n",
       "Midwestern University-Glendale                                  58200   \n",
       "Massachusetts Institute of Technology                           58100   \n",
       "Stanford University                                             56400   \n",
       "Brigham Young University-Provo                                  55000   \n",
       "Harvard University                                              54600   \n",
       "The University of Texas Health Science Center at San Antonio    54200   \n",
       "University of Maryland-Baltimore                                53800   \n",
       "Middlebury College                                              51900   \n",
       "Monterey Institute of International Studies                     51900   \n",
       "Amherst College                                                 49900   \n",
       "University of Pennsylvania                                      49000   \n",
       "Princeton University                                            47700   \n",
       "Thomas Jefferson University                                     41100   \n",
       "Loma Linda University                                           40000   \n",
       "University of Chicago                                           39700   \n",
       "Golden Gate University-San Francisco                            39300   \n",
       "\n",
       "                                                              mn_earn_wne_male0_p10  \\\n",
       "INSTNM                                                                                \n",
       "University of Medicine and Dentistry of New Jersey                           120200   \n",
       "The University of Texas Health Science Center at Houston                      83500   \n",
       "Upstate Medical University                                                   108100   \n",
       "Rosalind Franklin University of Medicine and Science                         137100   \n",
       "SUNY Downstate Medical Center                                                136800   \n",
       "University of Nebraska Medical Center                                         72300   \n",
       "Medical University of South Carolina                                          76100   \n",
       "Oregon Health & Science University                                            70500   \n",
       "University of Texas Southwestern Medical Center                              107300   \n",
       "Georgia Health Sciences University                                            64400   \n",
       "Philadelphia College of Osteopathic Medicine                                 143100   \n",
       "Western University of Health Sciences                                        108400   \n",
       "University of California-San Francisco                                       119400   \n",
       "Midwestern University-Downers Grove                                          111700   \n",
       "Midwestern University-Glendale                                               111700   \n",
       "Massachusetts Institute of Technology                                         93700   \n",
       "Stanford University                                                           94700   \n",
       "Brigham Young University-Provo                                                29500   \n",
       "Harvard University                                                           111200   \n",
       "The University of Texas Health Science Center at San Antonio                  80900   \n",
       "University of Maryland-Baltimore                                              84200   \n",
       "Middlebury College                                                            57300   \n",
       "Monterey Institute of International Studies                                   57300   \n",
       "Amherst College                                                               62800   \n",
       "University of Pennsylvania                                                    92000   \n",
       "Princeton University                                                          89700   \n",
       "Thomas Jefferson University                                                   80100   \n",
       "Loma Linda University                                                         68500   \n",
       "University of Chicago                                                         78500   \n",
       "Golden Gate University-San Francisco                                          63300   \n",
       "\n",
       "                                                              mn_earn_wne_male1_p10  \n",
       "INSTNM                                                                               \n",
       "University of Medicine and Dentistry of New Jersey                           233300  \n",
       "The University of Texas Health Science Center at Houston                     193900  \n",
       "Upstate Medical University                                                   204200  \n",
       "Rosalind Franklin University of Medicine and Science                         232000  \n",
       "SUNY Downstate Medical Center                                                218000  \n",
       "University of Nebraska Medical Center                                        151300  \n",
       "Medical University of South Carolina                                         145200  \n",
       "Oregon Health & Science University                                           139000  \n",
       "University of Texas Southwestern Medical Center                              174600  \n",
       "Georgia Health Sciences University                                           128200  \n",
       "Philadelphia College of Osteopathic Medicine                                 205500  \n",
       "Western University of Health Sciences                                        168100  \n",
       "University of California-San Francisco                                       178100  \n",
       "Midwestern University-Downers Grove                                          169900  \n",
       "Midwestern University-Glendale                                               169900  \n",
       "Massachusetts Institute of Technology                                        151800  \n",
       "Stanford University                                                          151100  \n",
       "Brigham Young University-Provo                                                84500  \n",
       "Harvard University                                                           165800  \n",
       "The University of Texas Health Science Center at San Antonio                 135100  \n",
       "University of Maryland-Baltimore                                             138000  \n",
       "Middlebury College                                                           109200  \n",
       "Monterey Institute of International Studies                                  109200  \n",
       "Amherst College                                                              112700  \n",
       "University of Pennsylvania                                                   141000  \n",
       "Princeton University                                                         137400  \n",
       "Thomas Jefferson University                                                  121200  \n",
       "Loma Linda University                                                        108500  \n",
       "University of Chicago                                                        118200  \n",
       "Golden Gate University-San Francisco                                         102600  "
      ]
     },
     "execution_count": 220,
     "metadata": {},
     "output_type": "execute_result"
    }
   ],
   "source": [
    "df[['INSTNM','diffp10','mn_earn_wne_male0_p10','mn_earn_wne_male1_p10']].set_index('INSTNM').head(30)"
   ]
  }
 ],
 "metadata": {
  "kernelspec": {
   "display_name": "Python 2",
   "language": "python",
   "name": "python2"
  },
  "language_info": {
   "codemirror_mode": {
    "name": "ipython",
    "version": 2
   },
   "file_extension": ".py",
   "mimetype": "text/x-python",
   "name": "python",
   "nbconvert_exporter": "python",
   "pygments_lexer": "ipython2",
   "version": "2.7.10"
  }
 },
 "nbformat": 4,
 "nbformat_minor": 0
}
